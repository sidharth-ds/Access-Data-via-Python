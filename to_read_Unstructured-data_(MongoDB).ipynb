{
  "nbformat": 4,
  "nbformat_minor": 0,
  "metadata": {
    "colab": {
      "name": "mongoDB  operations.ipynb",
      "provenance": [],
      "authorship_tag": "ABX9TyNQv9eIprTOdtqJxM/vlP6x"
    },
    "kernelspec": {
      "name": "python3",
      "display_name": "Python 3"
    },
    "language_info": {
      "name": "python"
    }
  },
  "cells": [
    {
      "cell_type": "markdown",
      "source": [
        "***pymongo : to communicate with MongoDB database from Python***"
      ],
      "metadata": {
        "id": "yMAwRZDdR0Bw"
      }
    },
    {
      "cell_type": "code",
      "execution_count": 51,
      "metadata": {
        "id": "ibQsnNOaDJjp"
      },
      "outputs": [],
      "source": [
        "import pymongo   "
      ]
    },
    {
      "cell_type": "markdown",
      "source": [
        "***Creating an Object (sidharth) : to connect to mongodb cloud ;   copy the link from mongoDB cloud, change password.***"
      ],
      "metadata": {
        "id": "WAnZFVcSR-UV"
      }
    },
    {
      "cell_type": "code",
      "source": [
        "sidharth = pymongo.MongoClient(\"mongodb://sidmongo:<password>@cluster0-shard-00-00.rd8et.mongodb.net:27017,cluster0-shard-00-01.rd8et.mongodb.net:27017,cluster0-shard-00-02.rd8et.mongodb.net:27017/myFirstDatabase?ssl=true&replicaSet=atlas-232pjm-shard-0&authSource=admin&retryWrites=true&w=majority\")"
      ],
      "metadata": {
        "id": "GgvAcM6mDoHN"
      },
      "execution_count": 52,
      "outputs": []
    },
    {
      "cell_type": "markdown",
      "source": [
        "# database-1 : food"
      ],
      "metadata": {
        "id": "lshna8aQX2-I"
      }
    },
    {
      "cell_type": "markdown",
      "source": [
        "***Creating a Database (food) :***"
      ],
      "metadata": {
        "id": "anLEY_KiSIoZ"
      }
    },
    {
      "cell_type": "code",
      "source": [
        "database1 = sidharth[\"food\"]      "
      ],
      "metadata": {
        "id": "dvcGjrk7OUJm"
      },
      "execution_count": 54,
      "outputs": []
    },
    {
      "cell_type": "markdown",
      "source": [
        "***Creating a Collection (tamilnadu) :***"
      ],
      "metadata": {
        "id": "iCOo6KmrSTKA"
      }
    },
    {
      "cell_type": "code",
      "source": [
        "coll1 = database1[\"tamilnadu\"]    "
      ],
      "metadata": {
        "id": "ZoiQcSxAOb3d"
      },
      "execution_count": 55,
      "outputs": []
    },
    {
      "cell_type": "markdown",
      "source": [
        "***Creating the document :***"
      ],
      "metadata": {
        "id": "dadA5arzSain"
      }
    },
    {
      "cell_type": "code",
      "source": [
        "m = {\"name\":\"rava dosa\",\"mode\":\"breakfast\",\"rating\":9,\"time\":10}   "
      ],
      "metadata": {
        "id": "idGzaFJ1nrMI"
      },
      "execution_count": 56,
      "outputs": []
    },
    {
      "cell_type": "markdown",
      "source": [
        "***Inserting only one Document (using: insert_one) :***"
      ],
      "metadata": {
        "id": "Cq7sq5fSSoB2"
      }
    },
    {
      "cell_type": "code",
      "source": [
        "coll1.insert_one(m)     "
      ],
      "metadata": {
        "colab": {
          "base_uri": "https://localhost:8080/"
        },
        "id": "smZxgfTsn-Hf",
        "outputId": "7b5024dc-e9e7-4447-8c9f-55e18724b227"
      },
      "execution_count": 57,
      "outputs": [
        {
          "output_type": "execute_result",
          "data": {
            "text/plain": [
              "<pymongo.results.InsertOneResult at 0x7f92f59ee820>"
            ]
          },
          "metadata": {},
          "execution_count": 57
        }
      ]
    },
    {
      "cell_type": "markdown",
      "source": [
        "***Assigning a Variable to the document :***"
      ],
      "metadata": {
        "id": "TtPixsmzTXD-"
      }
    },
    {
      "cell_type": "code",
      "source": [
        "q = coll1.insert_one(m)"
      ],
      "metadata": {
        "id": "2oWW465o7n_H"
      },
      "execution_count": null,
      "outputs": []
    },
    {
      "cell_type": "code",
      "source": [
        "q.inserted_id   # shows the address of the z"
      ],
      "metadata": {
        "colab": {
          "base_uri": "https://localhost:8080/"
        },
        "id": "B-oK1mk9-EtN",
        "outputId": "f2205a20-ac5c-425f-ebb9-95c04af711b0"
      },
      "execution_count": 69,
      "outputs": [
        {
          "output_type": "execute_result",
          "data": {
            "text/plain": [
              "ObjectId('61cefb1f22bfb872dc37be3d')"
            ]
          },
          "metadata": {},
          "execution_count": 69
        }
      ]
    },
    {
      "cell_type": "markdown",
      "source": [
        "***Creating Multiple documents :***"
      ],
      "metadata": {
        "id": "GOa5xz56T0Yw"
      }
    },
    {
      "cell_type": "code",
      "source": [
        "a = [{\"name\":\"upma\",\"mode\":\"breakfast\",\"rating\":9,\"time\":10},{\"name\":\"dosa\",\"mode\":\"breakfast\",\"rating\":9,\"time\":10},{\"name\":\"pongal\",\"mode\":\"breakfast\",\"rating\":9,\"time\":10}]"
      ],
      "metadata": {
        "id": "y6F39-Ho-YSD"
      },
      "execution_count": 59,
      "outputs": []
    },
    {
      "cell_type": "code",
      "source": [
        "a[0]"
      ],
      "metadata": {
        "colab": {
          "base_uri": "https://localhost:8080/"
        },
        "id": "v0N6exas_HWl",
        "outputId": "3ef2d3eb-a719-486d-dada-6291a4c1a350"
      },
      "execution_count": 60,
      "outputs": [
        {
          "output_type": "execute_result",
          "data": {
            "text/plain": [
              "{'mode': 'breakfast', 'name': 'upma', 'rating': 9, 'time': 10}"
            ]
          },
          "metadata": {},
          "execution_count": 60
        }
      ]
    },
    {
      "cell_type": "code",
      "source": [
        "a[1]"
      ],
      "metadata": {
        "colab": {
          "base_uri": "https://localhost:8080/"
        },
        "id": "See2g2eO_Np1",
        "outputId": "6877726d-f7d1-4bab-867b-5cb70f04d9f1"
      },
      "execution_count": 61,
      "outputs": [
        {
          "output_type": "execute_result",
          "data": {
            "text/plain": [
              "{'mode': 'breakfast', 'name': 'dosa', 'rating': 9, 'time': 10}"
            ]
          },
          "metadata": {},
          "execution_count": 61
        }
      ]
    },
    {
      "cell_type": "markdown",
      "source": [
        "***Inserting multiple Documents (using: insert_many) :***"
      ],
      "metadata": {
        "id": "-cRVkphbT8EQ"
      }
    },
    {
      "cell_type": "code",
      "source": [
        "b = coll1.insert_many(a)"
      ],
      "metadata": {
        "id": "X8rzAu-o_NxX"
      },
      "execution_count": 62,
      "outputs": []
    },
    {
      "cell_type": "code",
      "source": [
        "b.inserted_ids"
      ],
      "metadata": {
        "colab": {
          "base_uri": "https://localhost:8080/"
        },
        "id": "qG3XtkGR_YoV",
        "outputId": "3d66b9e6-449b-4e15-fe93-103f06e52aa4"
      },
      "execution_count": 63,
      "outputs": [
        {
          "output_type": "execute_result",
          "data": {
            "text/plain": [
              "[ObjectId('61cefbda22bfb872dc37be48'),\n",
              " ObjectId('61cefbda22bfb872dc37be49'),\n",
              " ObjectId('61cefbda22bfb872dc37be4a')]"
            ]
          },
          "metadata": {},
          "execution_count": 63
        }
      ]
    },
    {
      "cell_type": "markdown",
      "source": [
        "***To Fetch the first document :***"
      ],
      "metadata": {
        "id": "C7pomkOLUWYr"
      }
    },
    {
      "cell_type": "code",
      "source": [
        "c = coll1.find_one()\n",
        "print(c)"
      ],
      "metadata": {
        "colab": {
          "base_uri": "https://localhost:8080/"
        },
        "id": "lfExvrcL_ngZ",
        "outputId": "f18b2e68-394a-4bfc-819f-98367ab6d2a1"
      },
      "execution_count": 64,
      "outputs": [
        {
          "output_type": "stream",
          "name": "stdout",
          "text": [
            "{'_id': ObjectId('61c2b860613f35d7898764be'), 'name': 'idly', 'mode': 'lunch', 'rating': 9, 'time': 10}\n"
          ]
        }
      ]
    },
    {
      "cell_type": "markdown",
      "source": [
        "***To Fetch all documents :***"
      ],
      "metadata": {
        "id": "9cIdAn3BUdOl"
      }
    },
    {
      "cell_type": "code",
      "source": [
        "for i in coll1.find():\n",
        "  print(i)"
      ],
      "metadata": {
        "colab": {
          "base_uri": "https://localhost:8080/"
        },
        "id": "Kwsqhx1A_5e1",
        "outputId": "aa17e8d0-88dd-46d2-df36-1157428b139d"
      },
      "execution_count": 65,
      "outputs": [
        {
          "output_type": "stream",
          "name": "stdout",
          "text": [
            "{'_id': ObjectId('61c2b860613f35d7898764be'), 'name': 'idly', 'mode': 'lunch', 'rating': 9, 'time': 10}\n",
            "{'_id': ObjectId('61c2d041613f35d7898764c3'), 'name': 'upma', 'mode': 'breakfast', 'rating': 9, 'time': 106}\n",
            "{'_id': ObjectId('61c2d041613f35d7898764c4'), 'name': 'dosa', 'mode': 'breakfast', 'rating': 5, 'time': 16}\n",
            "{'_id': ObjectId('61c2d041613f35d7898764c5'), 'name': 'pongal', 'mode': 'breakfast', 'rating': 8, 'time': 60}\n",
            "{'_id': ObjectId('61c426a069552543c520dfc8'), 'name': 'upma', 'mode': 'breakfast', 'rating': 9, 'time': 10}\n",
            "{'_id': ObjectId('61c426a069552543c520dfc9'), 'name': 'dosa', 'mode': 'breakfast', 'rating': 9, 'time': 10}\n",
            "{'_id': ObjectId('61c426a069552543c520dfca'), 'name': 'pongal', 'mode': 'breakfast', 'rating': 9, 'time': 10}\n",
            "{'_id': ObjectId('61cefa6a22bfb872dc37be3b'), 'name': 'idly', 'mode': 'lunch', 'rating': 9, 'time': 10}\n",
            "{'_id': ObjectId('61cefab722bfb872dc37be3c'), 'name': 'rava dosa', 'mode': 'breakfast', 'rating': 9, 'time': 10}\n",
            "{'_id': ObjectId('61cefb1f22bfb872dc37be3d'), 'name': 'rava dosa', 'mode': 'breakfast', 'rating': 9, 'time': 10}\n",
            "{'_id': ObjectId('61cefb2c22bfb872dc37be3e'), 'name': 'rava dosa', 'mode': 'breakfast', 'rating': 9, 'time': 10}\n",
            "{'_id': ObjectId('61cefb6822bfb872dc37be3f'), 'name': 'upma', 'mode': 'breakfast', 'rating': 9, 'time': 10}\n",
            "{'_id': ObjectId('61cefb6822bfb872dc37be40'), 'name': 'dosa', 'mode': 'breakfast', 'rating': 9, 'time': 10}\n",
            "{'_id': ObjectId('61cefb6822bfb872dc37be41'), 'name': 'pongal', 'mode': 'breakfast', 'rating': 9, 'time': 10}\n",
            "{'_id': ObjectId('61cefb8122bfb872dc37be42'), 'name': 'rava dosa', 'mode': 'breakfast', 'rating': 9, 'time': 10}\n",
            "{'_id': ObjectId('61cefb9a22bfb872dc37be43'), 'name': 'upma', 'mode': 'breakfast', 'rating': 9, 'time': 10}\n",
            "{'_id': ObjectId('61cefb9a22bfb872dc37be44'), 'name': 'dosa', 'mode': 'breakfast', 'rating': 9, 'time': 10}\n",
            "{'_id': ObjectId('61cefb9a22bfb872dc37be45'), 'name': 'pongal', 'mode': 'breakfast', 'rating': 9, 'time': 10}\n",
            "{'_id': ObjectId('61cefbd722bfb872dc37be47'), 'name': 'rava dosa', 'mode': 'breakfast', 'rating': 9, 'time': 10}\n",
            "{'_id': ObjectId('61cefbda22bfb872dc37be48'), 'name': 'upma', 'mode': 'breakfast', 'rating': 9, 'time': 10}\n",
            "{'_id': ObjectId('61cefbda22bfb872dc37be49'), 'name': 'dosa', 'mode': 'breakfast', 'rating': 9, 'time': 10}\n",
            "{'_id': ObjectId('61cefbda22bfb872dc37be4a'), 'name': 'pongal', 'mode': 'breakfast', 'rating': 9, 'time': 10}\n"
          ]
        }
      ]
    },
    {
      "cell_type": "markdown",
      "source": [
        "***To Nullify the id (column) and fetch all the data :***"
      ],
      "metadata": {
        "id": "L4vrysg4WR7J"
      }
    },
    {
      "cell_type": "code",
      "source": [
        "for i in coll1.find({},{\"_id\":0}):\n",
        "  print(i)"
      ],
      "metadata": {
        "colab": {
          "base_uri": "https://localhost:8080/"
        },
        "id": "-0_v26QhAA1h",
        "outputId": "eedb987a-41fc-4c41-a9d3-54ef634f0bd2"
      },
      "execution_count": 68,
      "outputs": [
        {
          "output_type": "stream",
          "name": "stdout",
          "text": [
            "{'name': 'idly', 'mode': 'lunch', 'rating': 9, 'time': 10}\n",
            "{'name': 'upma', 'mode': 'breakfast', 'rating': 9, 'time': 106}\n",
            "{'name': 'dosa', 'mode': 'breakfast', 'rating': 5, 'time': 16}\n",
            "{'name': 'pongal', 'mode': 'breakfast', 'rating': 8, 'time': 60}\n",
            "{'name': 'upma', 'mode': 'breakfast', 'rating': 9, 'time': 10}\n",
            "{'name': 'dosa', 'mode': 'breakfast', 'rating': 9, 'time': 10}\n",
            "{'name': 'pongal', 'mode': 'breakfast', 'rating': 9, 'time': 10}\n",
            "{'name': 'idly', 'mode': 'lunch', 'rating': 9, 'time': 10}\n",
            "{'name': 'rava dosa', 'mode': 'breakfast', 'rating': 9, 'time': 10}\n",
            "{'name': 'rava dosa', 'mode': 'breakfast', 'rating': 9, 'time': 10}\n",
            "{'name': 'rava dosa', 'mode': 'breakfast', 'rating': 9, 'time': 10}\n",
            "{'name': 'upma', 'mode': 'breakfast', 'rating': 9, 'time': 10}\n",
            "{'name': 'dosa', 'mode': 'breakfast', 'rating': 9, 'time': 10}\n",
            "{'name': 'pongal', 'mode': 'breakfast', 'rating': 9, 'time': 10}\n",
            "{'name': 'rava dosa', 'mode': 'breakfast', 'rating': 9, 'time': 10}\n",
            "{'name': 'upma', 'mode': 'breakfast', 'rating': 9, 'time': 10}\n",
            "{'name': 'dosa', 'mode': 'breakfast', 'rating': 9, 'time': 10}\n",
            "{'name': 'pongal', 'mode': 'breakfast', 'rating': 9, 'time': 10}\n",
            "{'name': 'rava dosa', 'mode': 'breakfast', 'rating': 9, 'time': 10}\n",
            "{'name': 'upma', 'mode': 'breakfast', 'rating': 9, 'time': 10}\n",
            "{'name': 'dosa', 'mode': 'breakfast', 'rating': 9, 'time': 10}\n",
            "{'name': 'pongal', 'mode': 'breakfast', 'rating': 9, 'time': 10}\n"
          ]
        }
      ]
    },
    {
      "cell_type": "markdown",
      "source": [
        "***To Update the documents (using: update_many, $set) :***"
      ],
      "metadata": {
        "id": "4PYO9uuwWjKG"
      }
    },
    {
      "cell_type": "code",
      "source": [
        "coll1.update_many({'name':'idly'},{'$set':{'mode':'lunch'}})"
      ],
      "metadata": {
        "colab": {
          "base_uri": "https://localhost:8080/"
        },
        "id": "ngepbVnfNRlu",
        "outputId": "6a71df4d-2954-4cc3-da5e-4474cde6a748"
      },
      "execution_count": 48,
      "outputs": [
        {
          "output_type": "execute_result",
          "data": {
            "text/plain": [
              "<pymongo.results.UpdateResult at 0x7f92eb195460>"
            ]
          },
          "metadata": {},
          "execution_count": 48
        }
      ]
    },
    {
      "cell_type": "code",
      "source": [
        "for i in coll1.find({},{\"_id\":0}):\n",
        "  print(i)"
      ],
      "metadata": {
        "colab": {
          "base_uri": "https://localhost:8080/"
        },
        "id": "BrAJJc09NyIE",
        "outputId": "fc04e811-9149-4b3d-a1e6-2ad3b0fe1686"
      },
      "execution_count": 49,
      "outputs": [
        {
          "output_type": "stream",
          "name": "stdout",
          "text": [
            "{'name': 'idly', 'mode': 'lunch', 'rating': 9, 'time': 10}\n",
            "{'name': 'upma', 'mode': 'breakfast', 'rating': 9, 'time': 106}\n",
            "{'name': 'dosa', 'mode': 'breakfast', 'rating': 5, 'time': 16}\n",
            "{'name': 'pongal', 'mode': 'breakfast', 'rating': 8, 'time': 60}\n",
            "{'name': 'upma', 'mode': 'breakfast', 'rating': 9, 'time': 10}\n",
            "{'name': 'dosa', 'mode': 'breakfast', 'rating': 9, 'time': 10}\n",
            "{'name': 'pongal', 'mode': 'breakfast', 'rating': 9, 'time': 10}\n",
            "{'name': 'idly', 'mode': 'lunch', 'rating': 9, 'time': 10}\n",
            "{'name': 'rava dosa', 'mode': 'breakfast', 'rating': 9, 'time': 10}\n",
            "{'name': 'rava dosa', 'mode': 'breakfast', 'rating': 9, 'time': 10}\n",
            "{'name': 'rava dosa', 'mode': 'breakfast', 'rating': 9, 'time': 10}\n",
            "{'name': 'upma', 'mode': 'breakfast', 'rating': 9, 'time': 10}\n",
            "{'name': 'dosa', 'mode': 'breakfast', 'rating': 9, 'time': 10}\n",
            "{'name': 'pongal', 'mode': 'breakfast', 'rating': 9, 'time': 10}\n",
            "{'name': 'rava dosa', 'mode': 'breakfast', 'rating': 9, 'time': 10}\n",
            "{'name': 'upma', 'mode': 'breakfast', 'rating': 9, 'time': 10}\n",
            "{'name': 'dosa', 'mode': 'breakfast', 'rating': 9, 'time': 10}\n",
            "{'name': 'pongal', 'mode': 'breakfast', 'rating': 9, 'time': 10}\n"
          ]
        }
      ]
    },
    {
      "cell_type": "markdown",
      "source": [
        "***To Filter the documents (row & column - wise filteration) :***"
      ],
      "metadata": {
        "id": "00CAHNa7XIWH"
      }
    },
    {
      "cell_type": "code",
      "source": [
        "for i in coll1.find({\"rating\":{\"$lte\":8}},{\"_id\":0}):     # lte : lesser than equal to\n",
        "  print(i)"
      ],
      "metadata": {
        "colab": {
          "base_uri": "https://localhost:8080/"
        },
        "id": "C1tfz-DnALkq",
        "outputId": "a34c1138-fb5b-4898-8492-9fc77c8dff92"
      },
      "execution_count": 50,
      "outputs": [
        {
          "output_type": "stream",
          "name": "stdout",
          "text": [
            "{'name': 'dosa', 'mode': 'breakfast', 'rating': 5, 'time': 16}\n",
            "{'name': 'pongal', 'mode': 'breakfast', 'rating': 8, 'time': 60}\n"
          ]
        }
      ]
    },
    {
      "cell_type": "markdown",
      "source": [
        "# database-2 : sample_mflix\n"
      ],
      "metadata": {
        "id": "SE3a1h-aXj-3"
      }
    },
    {
      "cell_type": "code",
      "source": [
        "db2 = sidharth[\"sample_mflix\"]"
      ],
      "metadata": {
        "id": "WZGRDnSwA1WK"
      },
      "execution_count": null,
      "outputs": []
    },
    {
      "cell_type": "code",
      "source": [
        "col2 = db2[\"movies\"]"
      ],
      "metadata": {
        "id": "M4oFAJS4BIeJ"
      },
      "execution_count": null,
      "outputs": []
    },
    {
      "cell_type": "code",
      "source": [
        "q = col2.find({\"year\":{\"$lte\":1900}},{\"_id\":0})\n",
        "print(q)"
      ],
      "metadata": {
        "colab": {
          "base_uri": "https://localhost:8080/"
        },
        "id": "DmCtFHddBMyF",
        "outputId": "2c9b20ce-f2d2-4b70-f776-faab806df1a2"
      },
      "execution_count": null,
      "outputs": [
        {
          "output_type": "stream",
          "name": "stdout",
          "text": [
            "<pymongo.cursor.Cursor object at 0x7f7f6b636410>\n"
          ]
        }
      ]
    },
    {
      "cell_type": "code",
      "source": [
        "for i in q:\n",
        "  print(i)"
      ],
      "metadata": {
        "colab": {
          "base_uri": "https://localhost:8080/"
        },
        "id": "FRYG2P2PBexu",
        "outputId": "19f8ea1a-7989-4b59-ca57-dde4128bd1da"
      },
      "execution_count": null,
      "outputs": [
        {
          "output_type": "stream",
          "name": "stdout",
          "text": [
            "{'plot': 'Three men hammer on an anvil and pass a bottle of beer around.', 'genres': ['Short'], 'runtime': 1, 'cast': ['Charles Kayser', 'John Ott'], 'num_mflix_comments': 0, 'title': 'Blacksmith Scene', 'fullplot': 'A stationary camera looks at a large anvil with a blacksmith behind it and one on either side. The smith in the middle draws a heated metal rod from the fire, places it on the anvil, and all three begin a rhythmic hammering. After several blows, the metal goes back in the fire. One smith pulls out a bottle of beer, and they each take a swig. Then, out comes the glowing metal and the hammering resumes.', 'countries': ['USA'], 'released': datetime.datetime(1893, 5, 9, 0, 0), 'directors': ['William K.L. Dickson'], 'rated': 'UNRATED', 'awards': {'wins': 1, 'nominations': 0, 'text': '1 win.'}, 'lastupdated': '2015-08-26 00:03:50.133000000', 'year': 1893, 'imdb': {'rating': 6.2, 'votes': 1189, 'id': 5}, 'type': 'movie', 'tomatoes': {'viewer': {'rating': 3.0, 'numReviews': 184, 'meter': 32}, 'lastUpdated': datetime.datetime(2015, 6, 28, 18, 34, 9)}}\n",
            "{'plot': 'Two people kiss.', 'genres': ['Short', 'Romance'], 'runtime': 1, 'title': 'The Kiss', 'countries': ['USA'], 'fullplot': 'A couple make love, in the 19th century sense. Then he grooms his moustache, and gives her a kiss. On the lips!', 'num_mflix_comments': 0, 'cast': ['May Irwin', 'John C. Rice'], 'directors': ['William Heise'], 'writers': ['John J. McNally (play)'], 'awards': {'wins': 1, 'nominations': 0, 'text': '1 win.'}, 'lastupdated': '2015-08-07 00:29:36.180000000', 'year': 1896, 'imdb': {'rating': 5.9, 'votes': 1739, 'id': 139738}, 'type': 'movie', 'tomatoes': {'viewer': {'rating': 4.0, 'numReviews': 235, 'meter': 87}, 'dvd': datetime.datetime(1999, 5, 4, 0, 0), 'lastUpdated': datetime.datetime(2015, 8, 22, 19, 24, 9)}}\n",
            "{'plot': 'The sound has been found in the form of an old Edisonian recording cylinder. The cylinder was repaired, then Walter Murch ACE MPSE synced the film to the correct music in (I believe) 2002. Total running time is approximately 17 seconds.', 'genres': ['Short'], 'runtime': 1, 'title': 'Dickson Experimental Sound Film', 'countries': ['USA'], 'fullplot': 'The earliest extant sound film. William K.L. Dickson stands in the background next to a huge sound pickup horn connected to a Thomas Edison phonograph recorder. As he plays a violin, two men dance in the foreground. This film was made to demonstrate a new Thomas Edison machine, the Kinetophone. These machines were Kinetoscope peepshow viewers mated with Thomas Edison wax cylinder phonographs. But the Kinetophone never caught on and this film was never released. The film still exists, but the phonograph soundtrack has been lost.', 'languages': ['English'], 'cast': ['William K.L. Dickson'], 'directors': ['William K.L. Dickson'], 'rated': 'NOT RATED', 'awards': {'wins': 1, 'nominations': 0, 'text': '1 win.'}, 'lastupdated': '2015-06-16 00:30:38.357000000', 'year': 1894, 'imdb': {'rating': 6.8, 'votes': 1101, 'id': 177707}, 'type': 'movie', 'tomatoes': {'viewer': {'rating': 3.8, 'numReviews': 1794, 'meter': 84}, 'dvd': datetime.datetime(2001, 5, 22, 0, 0), 'production': 'Sony Pictures Home Entertainment', 'lastUpdated': datetime.datetime(2015, 8, 23, 18, 16, 1)}, 'num_mflix_comments': 0}\n",
            "{'plot': 'Two people kiss.', 'genres': ['Short', 'Romance'], 'runtime': 1, 'title': 'The Kiss', 'countries': ['USA'], 'fullplot': 'A couple make love, in the 19th century sense. Then he grooms his moustache, and gives her a kiss. On the lips!', 'num_mflix_comments': 1, 'cast': ['May Irwin', 'John C. Rice'], 'directors': ['William Heise'], 'writers': ['John J. McNally (play)'], 'awards': {'wins': 1, 'nominations': 0, 'text': '1 win.'}, 'lastupdated': '2015-08-30 04:39:01.160000000', 'year': 1896, 'imdb': {'rating': 5.9, 'votes': 1759, 'id': 139738}, 'type': 'movie'}\n",
            "{'plot': 'An athlete swings Indian clubs.', 'genres': ['Documentary', 'Short'], 'runtime': 1, 'title': 'Newark Athlete', 'num_mflix_comments': 1, 'countries': ['USA'], 'fullplot': 'A young man stands before the camera holding a club in each hand, horizontal to the ground. He raises the heads of the two clubs in unison, by rotating the clubs without lifting his arms. The film then shows the same footage over again, at different speeds.', 'languages': ['English'], 'directors': ['William K.L. Dickson'], 'rated': 'NOT RATED', 'awards': {'wins': 1, 'nominations': 0, 'text': '1 win.'}, 'lastupdated': '2015-08-03 00:57:26.680000000', 'year': 1891, 'imdb': {'rating': 4.9, 'votes': 827, 'id': 241763}, 'type': 'movie', 'tomatoes': {'lastUpdated': datetime.datetime(2012, 9, 30, 0, 0)}}\n"
          ]
        }
      ]
    },
    {
      "cell_type": "code",
      "source": [
        "z = col2.find({\"year\":{\"$in\":[1885,1920,2020]}},{\"_id\":0,\"plot\":1,\"year\":1})    # $in : means data is present in the list or not?"
      ],
      "metadata": {
        "id": "u1UVX9t0H0V_"
      },
      "execution_count": null,
      "outputs": []
    },
    {
      "cell_type": "code",
      "source": [
        "for i in z:\n",
        "  print(i)"
      ],
      "metadata": {
        "colab": {
          "base_uri": "https://localhost:8080/"
        },
        "id": "ToAqI2FkIK-L",
        "outputId": "205e5b2c-bdc1-4d6d-f94e-b21d4338d8ba"
      },
      "execution_count": null,
      "outputs": [
        {
          "output_type": "stream",
          "name": "stdout",
          "text": [
            "{'plot': 'As Alice and Cora Munro attempt to find their father, a British officer in the French and Indian War, they are set upon by French soldiers and their cohorts, Huron tribesmen led by the evil...', 'year': 1920}\n",
            "{'plot': 'The simple-minded son of a rich financier must find his own way in the world.', 'year': 1920}\n",
            "{'year': 1920}\n"
          ]
        }
      ]
    },
    {
      "cell_type": "code",
      "source": [
        "col2.update_many({'title': 'One Week'},{\"$set\":{'year':2021}})\n"
      ],
      "metadata": {
        "colab": {
          "base_uri": "https://localhost:8080/"
        },
        "id": "kTv4830oKVYF",
        "outputId": "4ee6f567-bd69-4d6f-8795-ecc32ac428c5"
      },
      "execution_count": null,
      "outputs": [
        {
          "output_type": "execute_result",
          "data": {
            "text/plain": [
              "<pymongo.results.UpdateResult at 0x7fe59b73afa0>"
            ]
          },
          "metadata": {},
          "execution_count": 56
        }
      ]
    },
    {
      "cell_type": "code",
      "source": [
        "for i in col2.find({\"year\":{\"$in\":[1885,1920,2020]}},{\"_id\":0,\"title\":1,\"year\":1}):\n",
        "  print(i)"
      ],
      "metadata": {
        "colab": {
          "base_uri": "https://localhost:8080/"
        },
        "id": "YDiUcB4QMpc-",
        "outputId": "0da9cc91-4c79-4581-e39e-516af1b6a813"
      },
      "execution_count": null,
      "outputs": [
        {
          "output_type": "stream",
          "name": "stdout",
          "text": [
            "{'title': 'The Last of the Mohicans', 'year': 1920}\n",
            "{'title': 'The Saphead', 'year': 1920}\n",
            "{'title': 'The Daughter of Dawn', 'year': 1920}\n"
          ]
        }
      ]
    },
    {
      "cell_type": "markdown",
      "source": [
        "# To convert Unstructured data into Structured data :"
      ],
      "metadata": {
        "id": "05AySrv5c772"
      }
    },
    {
      "cell_type": "markdown",
      "source": [
        "***put all the Documents in a List :***"
      ],
      "metadata": {
        "id": "eVkhF0ZcdbnC"
      }
    },
    {
      "cell_type": "code",
      "source": [
        "lis = []\n",
        "for i in col2.find({\"year\":{\"$in\":[1885,1920,2020]}},{\"_id\":0,\"title\":1,\"year\":1}):\n",
        "  lis.append(i)\n",
        "print(lis)"
      ],
      "metadata": {
        "colab": {
          "base_uri": "https://localhost:8080/"
        },
        "id": "fQV3f-x5JKqB",
        "outputId": "4f658670-6ac7-4445-c955-647f61cf0eb7"
      },
      "execution_count": null,
      "outputs": [
        {
          "output_type": "execute_result",
          "data": {
            "text/plain": [
              "[{'title': 'The Last of the Mohicans', 'year': 1920},\n",
              " {'title': 'The Saphead', 'year': 1920},\n",
              " {'title': 'The Daughter of Dawn', 'year': 1920}]"
            ]
          },
          "metadata": {},
          "execution_count": 55
        }
      ]
    },
    {
      "cell_type": "markdown",
      "source": [
        "***Use DATAFRAMES :***"
      ],
      "metadata": {
        "id": "UChsagXogG8H"
      }
    },
    {
      "cell_type": "code",
      "source": [
        "import pandas as pd"
      ],
      "metadata": {
        "id": "GGtw4EmJIQCx"
      },
      "execution_count": null,
      "outputs": []
    },
    {
      "cell_type": "code",
      "source": [
        "output = pd.DataFrame(lis)\n",
        "print(output)"
      ],
      "metadata": {
        "colab": {
          "base_uri": "https://localhost:8080/"
        },
        "id": "T6aDF0IoJdMg",
        "outputId": "db7b4ef2-20e6-4754-b970-8e413d0cb4ad"
      },
      "execution_count": null,
      "outputs": [
        {
          "output_type": "stream",
          "name": "stdout",
          "text": [
            "                      title  year\n",
            "0  The Last of the Mohicans  1920\n",
            "1               The Saphead  1920\n",
            "2      The Daughter of Dawn  1920\n"
          ]
        }
      ]
    }
  ]
}