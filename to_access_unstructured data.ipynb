{
  "nbformat": 4,
  "nbformat_minor": 0,
  "metadata": {
    "colab": {
      "name": "mongoDB  operations.ipynb",
      "provenance": [],
      "authorship_tag": "ABX9TyM4VC9NyWn9MtecROA/axQx"
    },
    "kernelspec": {
      "name": "python3",
      "display_name": "Python 3"
    },
    "language_info": {
      "name": "python"
    }
  },
  "cells": [
    {
      "cell_type": "markdown",
      "source": [
        "***pymongo : to communicate with MongoDB database from Python***"
      ],
      "metadata": {
        "id": "yMAwRZDdR0Bw"
      }
    },
    {
      "cell_type": "code",
      "execution_count": 70,
      "metadata": {
        "id": "ibQsnNOaDJjp"
      },
      "outputs": [],
      "source": [
        "import pymongo   "
      ]
    },
    {
      "cell_type": "markdown",
      "source": [
        "***Creating an Object (sidharth) : to connect to mongodb cloud ;   copy the link from mongoDB cloud, change password.***"
      ],
      "metadata": {
        "id": "WAnZFVcSR-UV"
      }
    },
    {
      "cell_type": "code",
      "source": [
        "sidharth = pymongo.MongoClient(\"mongodb://sidmongo:<password>8@cluster0-shard-00-00.rd8et.mongodb.net:27017,cluster0-shard-00-01.rd8et.mongodb.net:27017,cluster0-shard-00-02.rd8et.mongodb.net:27017/myFirstDatabase?ssl=true&replicaSet=atlas-232pjm-shard-0&authSource=admin&retryWrites=true&w=majority\")"
      ],
      "metadata": {
        "id": "GgvAcM6mDoHN"
      },
      "execution_count": 71,
      "outputs": []
    },
    {
      "cell_type": "markdown",
      "source": [
        "# database-1 : food"
      ],
      "metadata": {
        "id": "lshna8aQX2-I"
      }
    },
    {
      "cell_type": "markdown",
      "source": [
        "***Creating a Database (food) :***"
      ],
      "metadata": {
        "id": "anLEY_KiSIoZ"
      }
    },
    {
      "cell_type": "code",
      "source": [
        "database1 = sidharth[\"food\"]      "
      ],
      "metadata": {
        "id": "dvcGjrk7OUJm"
      },
      "execution_count": 72,
      "outputs": []
    },
    {
      "cell_type": "markdown",
      "source": [
        "***Creating a Collection (tamilnadu) :***"
      ],
      "metadata": {
        "id": "iCOo6KmrSTKA"
      }
    },
    {
      "cell_type": "code",
      "source": [
        "coll1 = database1[\"tamilnadu\"]    "
      ],
      "metadata": {
        "id": "ZoiQcSxAOb3d"
      },
      "execution_count": 73,
      "outputs": []
    },
    {
      "cell_type": "markdown",
      "source": [
        "***Creating the document :***"
      ],
      "metadata": {
        "id": "dadA5arzSain"
      }
    },
    {
      "cell_type": "code",
      "source": [
        "m = {\"name\":\"rava dosa\",\"mode\":\"breakfast\",\"rating\":9,\"time\":10}   "
      ],
      "metadata": {
        "id": "idGzaFJ1nrMI"
      },
      "execution_count": 74,
      "outputs": []
    },
    {
      "cell_type": "markdown",
      "source": [
        "***Inserting only one Document (using: insert_one) :***"
      ],
      "metadata": {
        "id": "Cq7sq5fSSoB2"
      }
    },
    {
      "cell_type": "code",
      "source": [
        "coll1.insert_one(m)     "
      ],
      "metadata": {
        "id": "smZxgfTsn-Hf"
      },
      "execution_count": 88,
      "outputs": []
    },
    {
      "cell_type": "markdown",
      "source": [
        "***Assigning a Variable to the document :***"
      ],
      "metadata": {
        "id": "TtPixsmzTXD-"
      }
    },
    {
      "cell_type": "code",
      "source": [
        "v = coll1.insert_one(m)"
      ],
      "metadata": {
        "id": "2oWW465o7n_H"
      },
      "execution_count": null,
      "outputs": []
    },
    {
      "cell_type": "code",
      "source": [
        "v.inserted_id   # shows the address of the z"
      ],
      "metadata": {
        "colab": {
          "base_uri": "https://localhost:8080/"
        },
        "id": "B-oK1mk9-EtN",
        "outputId": "dd95a961-a9fb-4394-d327-6cb1772344bb"
      },
      "execution_count": 90,
      "outputs": [
        {
          "output_type": "execute_result",
          "data": {
            "text/plain": [
              "Collection(Database(MongoClient(host=['cluster0-shard-00-01.rd8et.mongodb.net:27017', 'cluster0-shard-00-00.rd8et.mongodb.net:27017', 'cluster0-shard-00-02.rd8et.mongodb.net:27017'], document_class=dict, tz_aware=False, connect=True, ssl=True, replicaset='atlas-232pjm-shard-0', authsource='admin', retrywrites=True, w='majority'), 'food'), 'tamilnadu.inserted_id')"
            ]
          },
          "metadata": {},
          "execution_count": 90
        }
      ]
    },
    {
      "cell_type": "markdown",
      "source": [
        "***Creating Multiple documents :***"
      ],
      "metadata": {
        "id": "GOa5xz56T0Yw"
      }
    },
    {
      "cell_type": "code",
      "source": [
        "a = [{\"name\":\"upma\",\"mode\":\"breakfast\",\"rating\":9,\"time\":10},{\"name\":\"dosa\",\"mode\":\"breakfast\",\"rating\":9,\"time\":10},{\"name\":\"pongal\",\"mode\":\"breakfast\",\"rating\":9,\"time\":10}]"
      ],
      "metadata": {
        "id": "y6F39-Ho-YSD"
      },
      "execution_count": 91,
      "outputs": []
    },
    {
      "cell_type": "code",
      "source": [
        "a[0]"
      ],
      "metadata": {
        "colab": {
          "base_uri": "https://localhost:8080/"
        },
        "id": "v0N6exas_HWl",
        "outputId": "c5459237-5a5f-4ece-c2fe-ca6412a7e665"
      },
      "execution_count": 92,
      "outputs": [
        {
          "output_type": "execute_result",
          "data": {
            "text/plain": [
              "{'mode': 'breakfast', 'name': 'upma', 'rating': 9, 'time': 10}"
            ]
          },
          "metadata": {},
          "execution_count": 92
        }
      ]
    },
    {
      "cell_type": "code",
      "source": [
        "a[1]"
      ],
      "metadata": {
        "colab": {
          "base_uri": "https://localhost:8080/"
        },
        "id": "See2g2eO_Np1",
        "outputId": "3260f1ec-df6a-4df7-bfa2-47adf4585d7b"
      },
      "execution_count": 93,
      "outputs": [
        {
          "output_type": "execute_result",
          "data": {
            "text/plain": [
              "{'mode': 'breakfast', 'name': 'dosa', 'rating': 9, 'time': 10}"
            ]
          },
          "metadata": {},
          "execution_count": 93
        }
      ]
    },
    {
      "cell_type": "markdown",
      "source": [
        "***Inserting multiple Documents (using: insert_many) :***"
      ],
      "metadata": {
        "id": "-cRVkphbT8EQ"
      }
    },
    {
      "cell_type": "code",
      "source": [
        "b = coll1.insert_many(a)"
      ],
      "metadata": {
        "id": "X8rzAu-o_NxX"
      },
      "execution_count": 94,
      "outputs": []
    },
    {
      "cell_type": "code",
      "source": [
        "b.inserted_ids"
      ],
      "metadata": {
        "colab": {
          "base_uri": "https://localhost:8080/"
        },
        "id": "qG3XtkGR_YoV",
        "outputId": "8f9bb843-bf02-47d1-854c-ed063d110cd6"
      },
      "execution_count": 95,
      "outputs": [
        {
          "output_type": "execute_result",
          "data": {
            "text/plain": [
              "[ObjectId('61cf0b6b22bfb872dc37be4d'),\n",
              " ObjectId('61cf0b6b22bfb872dc37be4e'),\n",
              " ObjectId('61cf0b6b22bfb872dc37be4f')]"
            ]
          },
          "metadata": {},
          "execution_count": 95
        }
      ]
    },
    {
      "cell_type": "markdown",
      "source": [
        "***To Fetch the first document :***"
      ],
      "metadata": {
        "id": "C7pomkOLUWYr"
      }
    },
    {
      "cell_type": "code",
      "source": [
        "c = coll1.find_one()\n",
        "print(c)"
      ],
      "metadata": {
        "colab": {
          "base_uri": "https://localhost:8080/"
        },
        "id": "lfExvrcL_ngZ",
        "outputId": "5896e3b8-a1da-4f8c-d0d9-b3c5e88b956a"
      },
      "execution_count": 96,
      "outputs": [
        {
          "output_type": "stream",
          "name": "stdout",
          "text": [
            "{'_id': ObjectId('61cf09ac22bfb872dc37be4c'), 'name': 'rava dosa', 'mode': 'breakfast', 'rating': 9, 'time': 10}\n"
          ]
        }
      ]
    },
    {
      "cell_type": "markdown",
      "source": [
        "***To Fetch all documents :***"
      ],
      "metadata": {
        "id": "9cIdAn3BUdOl"
      }
    },
    {
      "cell_type": "code",
      "source": [
        "for i in coll1.find():\n",
        "  print(i)"
      ],
      "metadata": {
        "colab": {
          "base_uri": "https://localhost:8080/"
        },
        "id": "Kwsqhx1A_5e1",
        "outputId": "9097090c-c7d8-442e-fde0-af3eeaacc02a"
      },
      "execution_count": 97,
      "outputs": [
        {
          "output_type": "stream",
          "name": "stdout",
          "text": [
            "{'_id': ObjectId('61cf09ac22bfb872dc37be4c'), 'name': 'rava dosa', 'mode': 'breakfast', 'rating': 9, 'time': 10}\n",
            "{'_id': ObjectId('61cf0b6b22bfb872dc37be4d'), 'name': 'upma', 'mode': 'breakfast', 'rating': 9, 'time': 10}\n",
            "{'_id': ObjectId('61cf0b6b22bfb872dc37be4e'), 'name': 'dosa', 'mode': 'breakfast', 'rating': 9, 'time': 10}\n",
            "{'_id': ObjectId('61cf0b6b22bfb872dc37be4f'), 'name': 'pongal', 'mode': 'breakfast', 'rating': 9, 'time': 10}\n"
          ]
        }
      ]
    },
    {
      "cell_type": "markdown",
      "source": [
        "***To Nullify the id (column) and fetch all the data :***"
      ],
      "metadata": {
        "id": "L4vrysg4WR7J"
      }
    },
    {
      "cell_type": "code",
      "source": [
        "for i in coll1.find({},{\"_id\":0}):\n",
        "  print(i)"
      ],
      "metadata": {
        "colab": {
          "base_uri": "https://localhost:8080/"
        },
        "id": "-0_v26QhAA1h",
        "outputId": "79ed40b2-747b-4c8e-b767-7b17dc6024d4"
      },
      "execution_count": 98,
      "outputs": [
        {
          "output_type": "stream",
          "name": "stdout",
          "text": [
            "{'name': 'rava dosa', 'mode': 'breakfast', 'rating': 9, 'time': 10}\n",
            "{'name': 'upma', 'mode': 'breakfast', 'rating': 9, 'time': 10}\n",
            "{'name': 'dosa', 'mode': 'breakfast', 'rating': 9, 'time': 10}\n",
            "{'name': 'pongal', 'mode': 'breakfast', 'rating': 9, 'time': 10}\n"
          ]
        }
      ]
    },
    {
      "cell_type": "markdown",
      "source": [
        "***To Update the documents (using: update_many, $set) :***"
      ],
      "metadata": {
        "id": "4PYO9uuwWjKG"
      }
    },
    {
      "cell_type": "code",
      "source": [
        "coll1.update_many({'name':'idly'},{'$set':{'mode':'lunch'}})"
      ],
      "metadata": {
        "colab": {
          "base_uri": "https://localhost:8080/"
        },
        "id": "ngepbVnfNRlu",
        "outputId": "5d54d60a-3d29-4fd4-80c4-d90afaebc095"
      },
      "execution_count": 99,
      "outputs": [
        {
          "output_type": "execute_result",
          "data": {
            "text/plain": [
              "<pymongo.results.UpdateResult at 0x7f92eb16be10>"
            ]
          },
          "metadata": {},
          "execution_count": 99
        }
      ]
    },
    {
      "cell_type": "code",
      "source": [
        "for i in coll1.find({},{\"_id\":0}):\n",
        "  print(i)"
      ],
      "metadata": {
        "colab": {
          "base_uri": "https://localhost:8080/"
        },
        "id": "BrAJJc09NyIE",
        "outputId": "45f90add-bde8-471a-c5d9-4e1144e04506"
      },
      "execution_count": 100,
      "outputs": [
        {
          "output_type": "stream",
          "name": "stdout",
          "text": [
            "{'name': 'rava dosa', 'mode': 'breakfast', 'rating': 9, 'time': 10}\n",
            "{'name': 'upma', 'mode': 'breakfast', 'rating': 9, 'time': 10}\n",
            "{'name': 'dosa', 'mode': 'breakfast', 'rating': 9, 'time': 10}\n",
            "{'name': 'pongal', 'mode': 'breakfast', 'rating': 9, 'time': 10}\n"
          ]
        }
      ]
    },
    {
      "cell_type": "markdown",
      "source": [
        "***To Filter the documents (row & column - wise filteration) :***"
      ],
      "metadata": {
        "id": "00CAHNa7XIWH"
      }
    },
    {
      "cell_type": "code",
      "source": [
        "for i in coll1.find({\"rating\":{\"$lte\":8}},{\"_id\":0}):     # lte : lesser than equal to\n",
        "  print(i)"
      ],
      "metadata": {
        "id": "C1tfz-DnALkq"
      },
      "execution_count": 101,
      "outputs": []
    },
    {
      "cell_type": "markdown",
      "source": [
        "# database-2 : sample_mflix\n"
      ],
      "metadata": {
        "id": "SE3a1h-aXj-3"
      }
    },
    {
      "cell_type": "code",
      "source": [
        "db2 = sidharth[\"sample_mflix\"]"
      ],
      "metadata": {
        "id": "WZGRDnSwA1WK"
      },
      "execution_count": null,
      "outputs": []
    },
    {
      "cell_type": "code",
      "source": [
        "col2 = db2[\"movies\"]"
      ],
      "metadata": {
        "id": "M4oFAJS4BIeJ"
      },
      "execution_count": null,
      "outputs": []
    },
    {
      "cell_type": "code",
      "source": [
        "q = col2.find({\"year\":{\"$lte\":1900}},{\"_id\":0})\n",
        "print(q)"
      ],
      "metadata": {
        "colab": {
          "base_uri": "https://localhost:8080/"
        },
        "id": "DmCtFHddBMyF",
        "outputId": "2c9b20ce-f2d2-4b70-f776-faab806df1a2"
      },
      "execution_count": null,
      "outputs": [
        {
          "output_type": "stream",
          "name": "stdout",
          "text": [
            "<pymongo.cursor.Cursor object at 0x7f7f6b636410>\n"
          ]
        }
      ]
    },
    {
      "cell_type": "code",
      "source": [
        "for i in q:\n",
        "  print(i)"
      ],
      "metadata": {
        "colab": {
          "base_uri": "https://localhost:8080/"
        },
        "id": "FRYG2P2PBexu",
        "outputId": "19f8ea1a-7989-4b59-ca57-dde4128bd1da"
      },
      "execution_count": null,
      "outputs": [
        {
          "output_type": "stream",
          "name": "stdout",
          "text": [
            "{'plot': 'Three men hammer on an anvil and pass a bottle of beer around.', 'genres': ['Short'], 'runtime': 1, 'cast': ['Charles Kayser', 'John Ott'], 'num_mflix_comments': 0, 'title': 'Blacksmith Scene', 'fullplot': 'A stationary camera looks at a large anvil with a blacksmith behind it and one on either side. The smith in the middle draws a heated metal rod from the fire, places it on the anvil, and all three begin a rhythmic hammering. After several blows, the metal goes back in the fire. One smith pulls out a bottle of beer, and they each take a swig. Then, out comes the glowing metal and the hammering resumes.', 'countries': ['USA'], 'released': datetime.datetime(1893, 5, 9, 0, 0), 'directors': ['William K.L. Dickson'], 'rated': 'UNRATED', 'awards': {'wins': 1, 'nominations': 0, 'text': '1 win.'}, 'lastupdated': '2015-08-26 00:03:50.133000000', 'year': 1893, 'imdb': {'rating': 6.2, 'votes': 1189, 'id': 5}, 'type': 'movie', 'tomatoes': {'viewer': {'rating': 3.0, 'numReviews': 184, 'meter': 32}, 'lastUpdated': datetime.datetime(2015, 6, 28, 18, 34, 9)}}\n",
            "{'plot': 'Two people kiss.', 'genres': ['Short', 'Romance'], 'runtime': 1, 'title': 'The Kiss', 'countries': ['USA'], 'fullplot': 'A couple make love, in the 19th century sense. Then he grooms his moustache, and gives her a kiss. On the lips!', 'num_mflix_comments': 0, 'cast': ['May Irwin', 'John C. Rice'], 'directors': ['William Heise'], 'writers': ['John J. McNally (play)'], 'awards': {'wins': 1, 'nominations': 0, 'text': '1 win.'}, 'lastupdated': '2015-08-07 00:29:36.180000000', 'year': 1896, 'imdb': {'rating': 5.9, 'votes': 1739, 'id': 139738}, 'type': 'movie', 'tomatoes': {'viewer': {'rating': 4.0, 'numReviews': 235, 'meter': 87}, 'dvd': datetime.datetime(1999, 5, 4, 0, 0), 'lastUpdated': datetime.datetime(2015, 8, 22, 19, 24, 9)}}\n",
            "{'plot': 'The sound has been found in the form of an old Edisonian recording cylinder. The cylinder was repaired, then Walter Murch ACE MPSE synced the film to the correct music in (I believe) 2002. Total running time is approximately 17 seconds.', 'genres': ['Short'], 'runtime': 1, 'title': 'Dickson Experimental Sound Film', 'countries': ['USA'], 'fullplot': 'The earliest extant sound film. William K.L. Dickson stands in the background next to a huge sound pickup horn connected to a Thomas Edison phonograph recorder. As he plays a violin, two men dance in the foreground. This film was made to demonstrate a new Thomas Edison machine, the Kinetophone. These machines were Kinetoscope peepshow viewers mated with Thomas Edison wax cylinder phonographs. But the Kinetophone never caught on and this film was never released. The film still exists, but the phonograph soundtrack has been lost.', 'languages': ['English'], 'cast': ['William K.L. Dickson'], 'directors': ['William K.L. Dickson'], 'rated': 'NOT RATED', 'awards': {'wins': 1, 'nominations': 0, 'text': '1 win.'}, 'lastupdated': '2015-06-16 00:30:38.357000000', 'year': 1894, 'imdb': {'rating': 6.8, 'votes': 1101, 'id': 177707}, 'type': 'movie', 'tomatoes': {'viewer': {'rating': 3.8, 'numReviews': 1794, 'meter': 84}, 'dvd': datetime.datetime(2001, 5, 22, 0, 0), 'production': 'Sony Pictures Home Entertainment', 'lastUpdated': datetime.datetime(2015, 8, 23, 18, 16, 1)}, 'num_mflix_comments': 0}\n",
            "{'plot': 'Two people kiss.', 'genres': ['Short', 'Romance'], 'runtime': 1, 'title': 'The Kiss', 'countries': ['USA'], 'fullplot': 'A couple make love, in the 19th century sense. Then he grooms his moustache, and gives her a kiss. On the lips!', 'num_mflix_comments': 1, 'cast': ['May Irwin', 'John C. Rice'], 'directors': ['William Heise'], 'writers': ['John J. McNally (play)'], 'awards': {'wins': 1, 'nominations': 0, 'text': '1 win.'}, 'lastupdated': '2015-08-30 04:39:01.160000000', 'year': 1896, 'imdb': {'rating': 5.9, 'votes': 1759, 'id': 139738}, 'type': 'movie'}\n",
            "{'plot': 'An athlete swings Indian clubs.', 'genres': ['Documentary', 'Short'], 'runtime': 1, 'title': 'Newark Athlete', 'num_mflix_comments': 1, 'countries': ['USA'], 'fullplot': 'A young man stands before the camera holding a club in each hand, horizontal to the ground. He raises the heads of the two clubs in unison, by rotating the clubs without lifting his arms. The film then shows the same footage over again, at different speeds.', 'languages': ['English'], 'directors': ['William K.L. Dickson'], 'rated': 'NOT RATED', 'awards': {'wins': 1, 'nominations': 0, 'text': '1 win.'}, 'lastupdated': '2015-08-03 00:57:26.680000000', 'year': 1891, 'imdb': {'rating': 4.9, 'votes': 827, 'id': 241763}, 'type': 'movie', 'tomatoes': {'lastUpdated': datetime.datetime(2012, 9, 30, 0, 0)}}\n"
          ]
        }
      ]
    },
    {
      "cell_type": "code",
      "source": [
        "z = col2.find({\"year\":{\"$in\":[1885,1920,2020]}},{\"_id\":0,\"plot\":1,\"year\":1})    # $in : means data is present in the list or not?"
      ],
      "metadata": {
        "id": "u1UVX9t0H0V_"
      },
      "execution_count": null,
      "outputs": []
    },
    {
      "cell_type": "code",
      "source": [
        "for i in z:\n",
        "  print(i)"
      ],
      "metadata": {
        "colab": {
          "base_uri": "https://localhost:8080/"
        },
        "id": "ToAqI2FkIK-L",
        "outputId": "205e5b2c-bdc1-4d6d-f94e-b21d4338d8ba"
      },
      "execution_count": null,
      "outputs": [
        {
          "output_type": "stream",
          "name": "stdout",
          "text": [
            "{'plot': 'As Alice and Cora Munro attempt to find their father, a British officer in the French and Indian War, they are set upon by French soldiers and their cohorts, Huron tribesmen led by the evil...', 'year': 1920}\n",
            "{'plot': 'The simple-minded son of a rich financier must find his own way in the world.', 'year': 1920}\n",
            "{'year': 1920}\n"
          ]
        }
      ]
    },
    {
      "cell_type": "code",
      "source": [
        "col2.update_many({'title': 'One Week'},{\"$set\":{'year':2021}})\n"
      ],
      "metadata": {
        "colab": {
          "base_uri": "https://localhost:8080/"
        },
        "id": "kTv4830oKVYF",
        "outputId": "4ee6f567-bd69-4d6f-8795-ecc32ac428c5"
      },
      "execution_count": null,
      "outputs": [
        {
          "output_type": "execute_result",
          "data": {
            "text/plain": [
              "<pymongo.results.UpdateResult at 0x7fe59b73afa0>"
            ]
          },
          "metadata": {},
          "execution_count": 56
        }
      ]
    },
    {
      "cell_type": "code",
      "source": [
        "for i in col2.find({\"year\":{\"$in\":[1885,1920,2020]}},{\"_id\":0,\"title\":1,\"year\":1}):\n",
        "  print(i)"
      ],
      "metadata": {
        "colab": {
          "base_uri": "https://localhost:8080/"
        },
        "id": "YDiUcB4QMpc-",
        "outputId": "0da9cc91-4c79-4581-e39e-516af1b6a813"
      },
      "execution_count": null,
      "outputs": [
        {
          "output_type": "stream",
          "name": "stdout",
          "text": [
            "{'title': 'The Last of the Mohicans', 'year': 1920}\n",
            "{'title': 'The Saphead', 'year': 1920}\n",
            "{'title': 'The Daughter of Dawn', 'year': 1920}\n"
          ]
        }
      ]
    },
    {
      "cell_type": "markdown",
      "source": [
        "# To convert Unstructured data into Structured data :"
      ],
      "metadata": {
        "id": "05AySrv5c772"
      }
    },
    {
      "cell_type": "markdown",
      "source": [
        "***put all the Documents in a List :***"
      ],
      "metadata": {
        "id": "eVkhF0ZcdbnC"
      }
    },
    {
      "cell_type": "code",
      "source": [
        "lis = []\n",
        "for i in col2.find({\"year\":{\"$in\":[1885,1920,2020]}},{\"_id\":0,\"title\":1,\"year\":1}):\n",
        "  lis.append(i)\n",
        "print(lis)"
      ],
      "metadata": {
        "colab": {
          "base_uri": "https://localhost:8080/"
        },
        "id": "fQV3f-x5JKqB",
        "outputId": "4f658670-6ac7-4445-c955-647f61cf0eb7"
      },
      "execution_count": null,
      "outputs": [
        {
          "output_type": "execute_result",
          "data": {
            "text/plain": [
              "[{'title': 'The Last of the Mohicans', 'year': 1920},\n",
              " {'title': 'The Saphead', 'year': 1920},\n",
              " {'title': 'The Daughter of Dawn', 'year': 1920}]"
            ]
          },
          "metadata": {},
          "execution_count": 55
        }
      ]
    },
    {
      "cell_type": "markdown",
      "source": [
        "***Use DATAFRAMES :***"
      ],
      "metadata": {
        "id": "UChsagXogG8H"
      }
    },
    {
      "cell_type": "code",
      "source": [
        "import pandas as pd"
      ],
      "metadata": {
        "id": "GGtw4EmJIQCx"
      },
      "execution_count": null,
      "outputs": []
    },
    {
      "cell_type": "code",
      "source": [
        "output = pd.DataFrame(lis)\n",
        "print(output)"
      ],
      "metadata": {
        "colab": {
          "base_uri": "https://localhost:8080/"
        },
        "id": "T6aDF0IoJdMg",
        "outputId": "db7b4ef2-20e6-4754-b970-8e413d0cb4ad"
      },
      "execution_count": null,
      "outputs": [
        {
          "output_type": "stream",
          "name": "stdout",
          "text": [
            "                      title  year\n",
            "0  The Last of the Mohicans  1920\n",
            "1               The Saphead  1920\n",
            "2      The Daughter of Dawn  1920\n"
          ]
        }
      ]
    }
  ]
}
