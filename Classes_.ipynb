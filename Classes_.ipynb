{
  "nbformat": 4,
  "nbformat_minor": 0,
  "metadata": {
    "colab": {
      "name": "Classes  .ipynb",
      "provenance": [],
      "authorship_tag": "ABX9TyM+kkua2ag0xsKLh9PF2CU3",
      "include_colab_link": true
    },
    "kernelspec": {
      "name": "python3",
      "display_name": "Python 3"
    },
    "language_info": {
      "name": "python"
    }
  },
  "cells": [
    {
      "cell_type": "markdown",
      "metadata": {
        "id": "view-in-github",
        "colab_type": "text"
      },
      "source": [
        "<a href=\"https://colab.research.google.com/github/sidharth-ds/Access-Data-via-Python/blob/main/Classes_.ipynb\" target=\"_parent\"><img src=\"https://colab.research.google.com/assets/colab-badge.svg\" alt=\"Open In Colab\"/></a>"
      ]
    },
    {
      "cell_type": "code",
      "execution_count": null,
      "metadata": {
        "id": "qQdva5o4IfwR"
      },
      "outputs": [],
      "source": [
        "class car:\n",
        "  def __init__(self,name,model,year):\n",
        "    self.name=name\n",
        "    self.model=model\n",
        "    self.year=year\n",
        "  def loc(self,location):\n",
        "    return (self.name +\" \"+ self.model + \" located at \"+location)\n",
        "  def pri(self,price):\n",
        "    return (self.name + \" costs \" + str(price))\n",
        "  "
      ]
    },
    {
      "cell_type": "code",
      "source": [
        "z = car(\"etios liva\",\"GD\",2000)"
      ],
      "metadata": {
        "id": "66LII_wUJgiH"
      },
      "execution_count": null,
      "outputs": []
    },
    {
      "cell_type": "code",
      "source": [
        "z.loc(\"chennai\")"
      ],
      "metadata": {
        "colab": {
          "base_uri": "https://localhost:8080/",
          "height": 35
        },
        "id": "2MB2F7mZNAdC",
        "outputId": "4b28bda9-5de4-4883-c1f5-5bed0d5fab89"
      },
      "execution_count": null,
      "outputs": [
        {
          "output_type": "execute_result",
          "data": {
            "application/vnd.google.colaboratory.intrinsic+json": {
              "type": "string"
            },
            "text/plain": [
              "'etios liva AWQ located at chennai'"
            ]
          },
          "metadata": {},
          "execution_count": 70
        }
      ]
    },
    {
      "cell_type": "code",
      "source": [
        "z.pri(5000)"
      ],
      "metadata": {
        "colab": {
          "base_uri": "https://localhost:8080/",
          "height": 35
        },
        "id": "mXolJgG5NaG7",
        "outputId": "3841de50-2169-4cbe-8d3c-a8ce2e6fe910"
      },
      "execution_count": null,
      "outputs": [
        {
          "output_type": "execute_result",
          "data": {
            "application/vnd.google.colaboratory.intrinsic+json": {
              "type": "string"
            },
            "text/plain": [
              "'etios liva costs 5000'"
            ]
          },
          "metadata": {},
          "execution_count": 62
        }
      ]
    },
    {
      "cell_type": "code",
      "source": [
        "z.model = \"AWQ\""
      ],
      "metadata": {
        "id": "QmZXHHpuP7RC"
      },
      "execution_count": null,
      "outputs": []
    },
    {
      "cell_type": "code",
      "source": [
        "type(z)"
      ],
      "metadata": {
        "colab": {
          "base_uri": "https://localhost:8080/"
        },
        "id": "m_DMIyw3QPhB",
        "outputId": "b793a84f-c62e-43d6-9f3f-c0a151bc2cea"
      },
      "execution_count": null,
      "outputs": [
        {
          "output_type": "execute_result",
          "data": {
            "text/plain": [
              "__main__.car"
            ]
          },
          "metadata": {},
          "execution_count": 71
        }
      ]
    },
    {
      "cell_type": "code",
      "source": [
        "type(z.model)"
      ],
      "metadata": {
        "colab": {
          "base_uri": "https://localhost:8080/"
        },
        "id": "rLjFDmeuQTJ6",
        "outputId": "c5cb3d4f-71e2-410b-e79a-b327ecc2fde6"
      },
      "execution_count": null,
      "outputs": [
        {
          "output_type": "execute_result",
          "data": {
            "text/plain": [
              "str"
            ]
          },
          "metadata": {},
          "execution_count": 72
        }
      ]
    },
    {
      "cell_type": "code",
      "source": [
        "class arith:\n",
        "  def __init__(self,m,n,o):\n",
        "    self.m=m\n",
        "    self.n=n\n",
        "    self.o=o\n",
        "  def add(self,value):\n",
        "    return (self.m+self.n+value)\n",
        "  def sub(self,value):\n",
        "    return (self.m-self.o+value)\n",
        "  def mul(self,value):\n",
        "    return (self.m*self.o*value)\n"
      ],
      "metadata": {
        "id": "kRbyOIskQobq"
      },
      "execution_count": null,
      "outputs": []
    },
    {
      "cell_type": "code",
      "source": [
        "ari = arith(8,5,9)"
      ],
      "metadata": {
        "id": "VcaUogZGRQtl"
      },
      "execution_count": null,
      "outputs": []
    },
    {
      "cell_type": "code",
      "source": [
        "ari.add(7)"
      ],
      "metadata": {
        "colab": {
          "base_uri": "https://localhost:8080/"
        },
        "id": "fVbvHjyMRX-J",
        "outputId": "7d7d4d7f-91b7-450b-bd93-d2059ab402cd"
      },
      "execution_count": null,
      "outputs": [
        {
          "output_type": "execute_result",
          "data": {
            "text/plain": [
              "20"
            ]
          },
          "metadata": {},
          "execution_count": 76
        }
      ]
    },
    {
      "cell_type": "code",
      "source": [
        "ari.sub(20)"
      ],
      "metadata": {
        "colab": {
          "base_uri": "https://localhost:8080/"
        },
        "id": "Bs_saE0VRjrs",
        "outputId": "c8e78fc6-a307-439d-d1d2-18bc9a8614af"
      },
      "execution_count": null,
      "outputs": [
        {
          "output_type": "execute_result",
          "data": {
            "text/plain": [
              "19"
            ]
          },
          "metadata": {},
          "execution_count": 77
        }
      ]
    },
    {
      "cell_type": "code",
      "source": [
        "ari.mul(4)"
      ],
      "metadata": {
        "id": "0EfhMHoxRquc",
        "outputId": "175603f3-6cd3-4edf-86fe-120ec7fbb263",
        "colab": {
          "base_uri": "https://localhost:8080/"
        }
      },
      "execution_count": null,
      "outputs": [
        {
          "output_type": "execute_result",
          "data": {
            "text/plain": [
              "288"
            ]
          },
          "metadata": {},
          "execution_count": 78
        }
      ]
    },
    {
      "cell_type": "code",
      "source": [
        "class Library:\n",
        "    def __init__(self,list):\n",
        "        self.booklist = list\n",
        "    \n",
        "    def show(self):\n",
        "        for i in self.booklist:\n",
        "            print(i)\n",
        "    \n",
        "    def lend(self,book):\n",
        "        if book in self.booklist:\n",
        "            self.booklist.remove(book)\n",
        "        else:\n",
        "            print('book not available')\n",
        "        \n",
        "    def receive(self,book):\n",
        "        if book not in self.booklist:\n",
        "            self.booklist.append(book)\n",
        "        else:\n",
        "            print('book already returned')\n",
        "           \n",
        "    def welcomemsg(self):\n",
        "        print('welcome to library')\n",
        "\n",
        "class Customer:\n",
        "    def borrow(self):\n",
        "        print('To borrow: enter the bookname')\n",
        "        borrow_book = input()\n",
        "        return borrow_book\n",
        "    \n",
        "    def returned(self):\n",
        "        print('To return: enter the bookname')\n",
        "        return_book = input()\n",
        "        return return_book\n",
        "\n",
        "lib = Library(['book1','book2','book3','book4'])\n",
        "cus = Customer()\n",
        "\n",
        "lib.welcomemsg()\n",
        "call = True\n",
        "while call == True:\n",
        "    \n",
        "    print('\\nselect an option:')\n",
        "    print('\\n1-Show booklist \\n2-borrow a book \\n3-return a book \\n4-exit')\n",
        "    \n",
        "    option = int(input())\n",
        "    \n",
        "    if option == 1:\n",
        "        lib.show()\n",
        "    \n",
        "    elif option == 2:\n",
        "        borrow_lend = cus.borrow()\n",
        "        lib.lend(borrow_lend)\n",
        "    \n",
        "    elif option == 3:\n",
        "        return_receive = cus.returned()\n",
        "        lib.receive(return_receive)\n",
        "    \n",
        "    elif option!=1 and option!=2 and option!=3 and option!=4:\n",
        "        print('enter a valid option')\n",
        "    \n",
        "    elif option == 4:\n",
        "        call = False"
      ],
      "metadata": {
        "colab": {
          "base_uri": "https://localhost:8080/",
          "height": 756
        },
        "id": "rbyXgMCASlQL",
        "outputId": "c159cca9-9b51-4d51-d49f-a92921716c87"
      },
      "execution_count": null,
      "outputs": [
        {
          "name": "stdout",
          "output_type": "stream",
          "text": [
            "welcome to library\n",
            "\n",
            "select an option:\n",
            "\n",
            "1-Show booklist \n",
            "2-borrow a book \n",
            "3-return a book \n",
            "4-exit\n",
            "1\n",
            "book1\n",
            "book2\n",
            "book3\n",
            "book4\n",
            "\n",
            "select an option:\n",
            "\n",
            "1-Show booklist \n",
            "2-borrow a book \n",
            "3-return a book \n",
            "4-exit\n",
            "2\n",
            "To borrow: enter the bookname\n",
            "book1\n"
          ]
        },
        {
          "output_type": "error",
          "ename": "NameError",
          "evalue": "ignored",
          "traceback": [
            "\u001b[0;31m---------------------------------------------------------------------------\u001b[0m",
            "\u001b[0;31mNameError\u001b[0m                                 Traceback (most recent call last)",
            "\u001b[0;32m<ipython-input-1-34f0b0c3678d>\u001b[0m in \u001b[0;36m<module>\u001b[0;34m()\u001b[0m\n\u001b[1;32m     50\u001b[0m     \u001b[0;32melif\u001b[0m \u001b[0moption\u001b[0m \u001b[0;34m==\u001b[0m \u001b[0;36m2\u001b[0m\u001b[0;34m:\u001b[0m\u001b[0;34m\u001b[0m\u001b[0;34m\u001b[0m\u001b[0m\n\u001b[1;32m     51\u001b[0m         \u001b[0mborrow_lend\u001b[0m \u001b[0;34m=\u001b[0m \u001b[0mcus\u001b[0m\u001b[0;34m.\u001b[0m\u001b[0mborrow\u001b[0m\u001b[0;34m(\u001b[0m\u001b[0;34m)\u001b[0m\u001b[0;34m\u001b[0m\u001b[0;34m\u001b[0m\u001b[0m\n\u001b[0;32m---> 52\u001b[0;31m         \u001b[0mlib\u001b[0m\u001b[0;34m.\u001b[0m\u001b[0mlend\u001b[0m\u001b[0;34m(\u001b[0m\u001b[0mborrow_lend\u001b[0m\u001b[0;34m)\u001b[0m\u001b[0;34m\u001b[0m\u001b[0;34m\u001b[0m\u001b[0m\n\u001b[0m\u001b[1;32m     53\u001b[0m \u001b[0;34m\u001b[0m\u001b[0m\n\u001b[1;32m     54\u001b[0m     \u001b[0;32melif\u001b[0m \u001b[0moption\u001b[0m \u001b[0;34m==\u001b[0m \u001b[0;36m3\u001b[0m\u001b[0;34m:\u001b[0m\u001b[0;34m\u001b[0m\u001b[0;34m\u001b[0m\u001b[0m\n",
            "\u001b[0;32m<ipython-input-1-34f0b0c3678d>\u001b[0m in \u001b[0;36mlend\u001b[0;34m(self, book)\u001b[0m\n\u001b[1;32m      8\u001b[0m \u001b[0;34m\u001b[0m\u001b[0m\n\u001b[1;32m      9\u001b[0m     \u001b[0;32mdef\u001b[0m \u001b[0mlend\u001b[0m\u001b[0;34m(\u001b[0m\u001b[0mself\u001b[0m\u001b[0;34m,\u001b[0m\u001b[0mbook\u001b[0m\u001b[0;34m)\u001b[0m\u001b[0;34m:\u001b[0m\u001b[0;34m\u001b[0m\u001b[0;34m\u001b[0m\u001b[0m\n\u001b[0;32m---> 10\u001b[0;31m         \u001b[0;32mif\u001b[0m \u001b[0mbook\u001b[0m \u001b[0;32min\u001b[0m \u001b[0mbooklist\u001b[0m\u001b[0;34m:\u001b[0m\u001b[0;34m\u001b[0m\u001b[0;34m\u001b[0m\u001b[0m\n\u001b[0m\u001b[1;32m     11\u001b[0m             \u001b[0mself\u001b[0m\u001b[0;34m.\u001b[0m\u001b[0mbooklist\u001b[0m\u001b[0;34m.\u001b[0m\u001b[0mremove\u001b[0m\u001b[0;34m(\u001b[0m\u001b[0mbook\u001b[0m\u001b[0;34m)\u001b[0m\u001b[0;34m\u001b[0m\u001b[0;34m\u001b[0m\u001b[0m\n\u001b[1;32m     12\u001b[0m         \u001b[0;32melse\u001b[0m\u001b[0;34m:\u001b[0m\u001b[0;34m\u001b[0m\u001b[0;34m\u001b[0m\u001b[0m\n",
            "\u001b[0;31mNameError\u001b[0m: name 'booklist' is not defined"
          ]
        }
      ]
    }
  ]
}